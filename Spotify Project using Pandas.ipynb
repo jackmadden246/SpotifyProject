{
 "cells": [
  {
   "cell_type": "markdown",
   "id": "6c493dc6",
   "metadata": {},
   "source": [
    "# Spotify Project part 2"
   ]
  },
  {
   "cell_type": "markdown",
   "id": "a12b309b",
   "metadata": {},
   "source": [
    "This is part 2 of my Spotify project. Part 1 involved creating a table using SQL with a sample of the datset below, and establishing a connection to it. The table was then shared on GitHub. This part focuses on my interactions with the original dataset in the hopes of anaylysing it using Pandas for any trends or insights. "
   ]
  },
  {
   "cell_type": "code",
   "execution_count": 1,
   "id": "a4e8c5eb",
   "metadata": {},
   "outputs": [],
   "source": [
    "import pandas as pd\n",
    "import numpy as np"
   ]
  },
  {
   "cell_type": "code",
   "execution_count": 2,
   "id": "2c374a47",
   "metadata": {
    "scrolled": true
   },
   "outputs": [],
   "source": [
    "spotify_df = pd.read_csv(\"C:/Users/JackMadden/OneDrive - JCW Resourcing/Documents/spotify_artist_data.csv\")"
   ]
  },
  {
   "cell_type": "code",
   "execution_count": 3,
   "id": "38542bed",
   "metadata": {},
   "outputs": [
    {
     "data": {
      "text/html": [
       "<div>\n",
       "<style scoped>\n",
       "    .dataframe tbody tr th:only-of-type {\n",
       "        vertical-align: middle;\n",
       "    }\n",
       "\n",
       "    .dataframe tbody tr th {\n",
       "        vertical-align: top;\n",
       "    }\n",
       "\n",
       "    .dataframe thead th {\n",
       "        text-align: right;\n",
       "    }\n",
       "</style>\n",
       "<table border=\"1\" class=\"dataframe\">\n",
       "  <thead>\n",
       "    <tr style=\"text-align: right;\">\n",
       "      <th></th>\n",
       "      <th>Unnamed: 0</th>\n",
       "      <th>Artist Name</th>\n",
       "      <th>Lead Streams</th>\n",
       "      <th>Feats</th>\n",
       "      <th>Tracks</th>\n",
       "      <th>One Billion</th>\n",
       "      <th>100 Million</th>\n",
       "      <th>Last Updated</th>\n",
       "    </tr>\n",
       "  </thead>\n",
       "  <tbody>\n",
       "    <tr>\n",
       "      <th>0</th>\n",
       "      <td>1</td>\n",
       "      <td>Drake</td>\n",
       "      <td>50,162,292,808</td>\n",
       "      <td>19,246,513,666</td>\n",
       "      <td>262</td>\n",
       "      <td>6</td>\n",
       "      <td>130</td>\n",
       "      <td>19.09.22</td>\n",
       "    </tr>\n",
       "    <tr>\n",
       "      <th>1</th>\n",
       "      <td>2</td>\n",
       "      <td>Bad Bunny</td>\n",
       "      <td>44,369,032,140</td>\n",
       "      <td>5,391,990,975</td>\n",
       "      <td>163</td>\n",
       "      <td>5</td>\n",
       "      <td>118</td>\n",
       "      <td>20.09.22</td>\n",
       "    </tr>\n",
       "    <tr>\n",
       "      <th>2</th>\n",
       "      <td>3</td>\n",
       "      <td>Ed Sheeran</td>\n",
       "      <td>38,153,682,361</td>\n",
       "      <td>2,791,278,201</td>\n",
       "      <td>240</td>\n",
       "      <td>10</td>\n",
       "      <td>62</td>\n",
       "      <td>19.09.22</td>\n",
       "    </tr>\n",
       "    <tr>\n",
       "      <th>3</th>\n",
       "      <td>4</td>\n",
       "      <td>The Weeknd</td>\n",
       "      <td>34,767,779,741</td>\n",
       "      <td>4,288,903,657</td>\n",
       "      <td>186</td>\n",
       "      <td>8</td>\n",
       "      <td>72</td>\n",
       "      <td>19.09.22</td>\n",
       "    </tr>\n",
       "    <tr>\n",
       "      <th>4</th>\n",
       "      <td>5</td>\n",
       "      <td>Taylor Swift</td>\n",
       "      <td>32,596,728,109</td>\n",
       "      <td>424,053,296</td>\n",
       "      <td>323</td>\n",
       "      <td>1</td>\n",
       "      <td>96</td>\n",
       "      <td>20.09.22</td>\n",
       "    </tr>\n",
       "    <tr>\n",
       "      <th>...</th>\n",
       "      <td>...</td>\n",
       "      <td>...</td>\n",
       "      <td>...</td>\n",
       "      <td>...</td>\n",
       "      <td>...</td>\n",
       "      <td>...</td>\n",
       "      <td>...</td>\n",
       "      <td>...</td>\n",
       "    </tr>\n",
       "    <tr>\n",
       "      <th>1004</th>\n",
       "      <td>1005</td>\n",
       "      <td>Gotye</td>\n",
       "      <td>1,424,591,618</td>\n",
       "      <td>10,576,378</td>\n",
       "      <td>46</td>\n",
       "      <td>1</td>\n",
       "      <td>1</td>\n",
       "      <td>31.07.22</td>\n",
       "    </tr>\n",
       "    <tr>\n",
       "      <th>1005</th>\n",
       "      <td>1006</td>\n",
       "      <td>NIKI</td>\n",
       "      <td>1,422,920,850</td>\n",
       "      <td>231,405,433</td>\n",
       "      <td>55</td>\n",
       "      <td>0</td>\n",
       "      <td>4</td>\n",
       "      <td>14.09.22</td>\n",
       "    </tr>\n",
       "    <tr>\n",
       "      <th>1006</th>\n",
       "      <td>1007</td>\n",
       "      <td>Duke Dumont</td>\n",
       "      <td>1,422,096,182</td>\n",
       "      <td>24,622,115</td>\n",
       "      <td>121</td>\n",
       "      <td>0</td>\n",
       "      <td>2</td>\n",
       "      <td>31.07.22</td>\n",
       "    </tr>\n",
       "    <tr>\n",
       "      <th>1007</th>\n",
       "      <td>1008</td>\n",
       "      <td>Laura Pausini</td>\n",
       "      <td>1,421,622,604</td>\n",
       "      <td>293,291,443</td>\n",
       "      <td>434</td>\n",
       "      <td>0</td>\n",
       "      <td>0</td>\n",
       "      <td>13.09.22</td>\n",
       "    </tr>\n",
       "    <tr>\n",
       "      <th>1008</th>\n",
       "      <td>1009</td>\n",
       "      <td>Beck</td>\n",
       "      <td>1,420,597,420</td>\n",
       "      <td>83,871,063</td>\n",
       "      <td>300</td>\n",
       "      <td>0</td>\n",
       "      <td>1</td>\n",
       "      <td>17.08.22</td>\n",
       "    </tr>\n",
       "  </tbody>\n",
       "</table>\n",
       "<p>1009 rows × 8 columns</p>\n",
       "</div>"
      ],
      "text/plain": [
       "      Unnamed: 0    Artist Name    Lead Streams           Feats Tracks  \\\n",
       "0              1          Drake  50,162,292,808  19,246,513,666    262   \n",
       "1              2      Bad Bunny  44,369,032,140   5,391,990,975    163   \n",
       "2              3     Ed Sheeran  38,153,682,361   2,791,278,201    240   \n",
       "3              4     The Weeknd  34,767,779,741   4,288,903,657    186   \n",
       "4              5   Taylor Swift  32,596,728,109     424,053,296    323   \n",
       "...          ...            ...             ...             ...    ...   \n",
       "1004        1005          Gotye   1,424,591,618      10,576,378     46   \n",
       "1005        1006           NIKI   1,422,920,850     231,405,433     55   \n",
       "1006        1007    Duke Dumont   1,422,096,182      24,622,115    121   \n",
       "1007        1008  Laura Pausini   1,421,622,604     293,291,443    434   \n",
       "1008        1009           Beck   1,420,597,420      83,871,063    300   \n",
       "\n",
       "     One Billion 100 Million Last Updated  \n",
       "0              6         130     19.09.22  \n",
       "1              5         118     20.09.22  \n",
       "2             10          62     19.09.22  \n",
       "3              8          72     19.09.22  \n",
       "4              1          96     20.09.22  \n",
       "...          ...         ...          ...  \n",
       "1004           1           1     31.07.22  \n",
       "1005           0           4     14.09.22  \n",
       "1006           0           2     31.07.22  \n",
       "1007           0           0     13.09.22  \n",
       "1008           0           1     17.08.22  \n",
       "\n",
       "[1009 rows x 8 columns]"
      ]
     },
     "execution_count": 3,
     "metadata": {},
     "output_type": "execute_result"
    }
   ],
   "source": [
    "spotify_df"
   ]
  },
  {
   "cell_type": "code",
   "execution_count": 4,
   "id": "7c70c068",
   "metadata": {},
   "outputs": [
    {
     "data": {
      "text/html": [
       "<div>\n",
       "<style scoped>\n",
       "    .dataframe tbody tr th:only-of-type {\n",
       "        vertical-align: middle;\n",
       "    }\n",
       "\n",
       "    .dataframe tbody tr th {\n",
       "        vertical-align: top;\n",
       "    }\n",
       "\n",
       "    .dataframe thead th {\n",
       "        text-align: right;\n",
       "    }\n",
       "</style>\n",
       "<table border=\"1\" class=\"dataframe\">\n",
       "  <thead>\n",
       "    <tr style=\"text-align: right;\">\n",
       "      <th></th>\n",
       "      <th>Unnamed: 0</th>\n",
       "      <th>Artist Name</th>\n",
       "      <th>Lead Streams</th>\n",
       "      <th>Feats</th>\n",
       "      <th>Tracks</th>\n",
       "      <th>One Billion</th>\n",
       "      <th>100 Million</th>\n",
       "      <th>Last Updated</th>\n",
       "    </tr>\n",
       "  </thead>\n",
       "  <tbody>\n",
       "    <tr>\n",
       "      <th>0</th>\n",
       "      <td>1</td>\n",
       "      <td>Drake</td>\n",
       "      <td>50,162,292,808</td>\n",
       "      <td>19,246,513,666</td>\n",
       "      <td>262</td>\n",
       "      <td>6</td>\n",
       "      <td>130</td>\n",
       "      <td>19.09.22</td>\n",
       "    </tr>\n",
       "    <tr>\n",
       "      <th>1</th>\n",
       "      <td>2</td>\n",
       "      <td>Bad Bunny</td>\n",
       "      <td>44,369,032,140</td>\n",
       "      <td>5,391,990,975</td>\n",
       "      <td>163</td>\n",
       "      <td>5</td>\n",
       "      <td>118</td>\n",
       "      <td>20.09.22</td>\n",
       "    </tr>\n",
       "    <tr>\n",
       "      <th>2</th>\n",
       "      <td>3</td>\n",
       "      <td>Ed Sheeran</td>\n",
       "      <td>38,153,682,361</td>\n",
       "      <td>2,791,278,201</td>\n",
       "      <td>240</td>\n",
       "      <td>10</td>\n",
       "      <td>62</td>\n",
       "      <td>19.09.22</td>\n",
       "    </tr>\n",
       "    <tr>\n",
       "      <th>3</th>\n",
       "      <td>4</td>\n",
       "      <td>The Weeknd</td>\n",
       "      <td>34,767,779,741</td>\n",
       "      <td>4,288,903,657</td>\n",
       "      <td>186</td>\n",
       "      <td>8</td>\n",
       "      <td>72</td>\n",
       "      <td>19.09.22</td>\n",
       "    </tr>\n",
       "    <tr>\n",
       "      <th>4</th>\n",
       "      <td>5</td>\n",
       "      <td>Taylor Swift</td>\n",
       "      <td>32,596,728,109</td>\n",
       "      <td>424,053,296</td>\n",
       "      <td>323</td>\n",
       "      <td>1</td>\n",
       "      <td>96</td>\n",
       "      <td>20.09.22</td>\n",
       "    </tr>\n",
       "    <tr>\n",
       "      <th>...</th>\n",
       "      <td>...</td>\n",
       "      <td>...</td>\n",
       "      <td>...</td>\n",
       "      <td>...</td>\n",
       "      <td>...</td>\n",
       "      <td>...</td>\n",
       "      <td>...</td>\n",
       "      <td>...</td>\n",
       "    </tr>\n",
       "    <tr>\n",
       "      <th>1004</th>\n",
       "      <td>1005</td>\n",
       "      <td>Gotye</td>\n",
       "      <td>1,424,591,618</td>\n",
       "      <td>10,576,378</td>\n",
       "      <td>46</td>\n",
       "      <td>1</td>\n",
       "      <td>1</td>\n",
       "      <td>31.07.22</td>\n",
       "    </tr>\n",
       "    <tr>\n",
       "      <th>1005</th>\n",
       "      <td>1006</td>\n",
       "      <td>NIKI</td>\n",
       "      <td>1,422,920,850</td>\n",
       "      <td>231,405,433</td>\n",
       "      <td>55</td>\n",
       "      <td>0</td>\n",
       "      <td>4</td>\n",
       "      <td>14.09.22</td>\n",
       "    </tr>\n",
       "    <tr>\n",
       "      <th>1006</th>\n",
       "      <td>1007</td>\n",
       "      <td>Duke Dumont</td>\n",
       "      <td>1,422,096,182</td>\n",
       "      <td>24,622,115</td>\n",
       "      <td>121</td>\n",
       "      <td>0</td>\n",
       "      <td>2</td>\n",
       "      <td>31.07.22</td>\n",
       "    </tr>\n",
       "    <tr>\n",
       "      <th>1007</th>\n",
       "      <td>1008</td>\n",
       "      <td>Laura Pausini</td>\n",
       "      <td>1,421,622,604</td>\n",
       "      <td>293,291,443</td>\n",
       "      <td>434</td>\n",
       "      <td>0</td>\n",
       "      <td>0</td>\n",
       "      <td>13.09.22</td>\n",
       "    </tr>\n",
       "    <tr>\n",
       "      <th>1008</th>\n",
       "      <td>1009</td>\n",
       "      <td>Beck</td>\n",
       "      <td>1,420,597,420</td>\n",
       "      <td>83,871,063</td>\n",
       "      <td>300</td>\n",
       "      <td>0</td>\n",
       "      <td>1</td>\n",
       "      <td>17.08.22</td>\n",
       "    </tr>\n",
       "  </tbody>\n",
       "</table>\n",
       "<p>1009 rows × 8 columns</p>\n",
       "</div>"
      ],
      "text/plain": [
       "      Unnamed: 0    Artist Name    Lead Streams           Feats Tracks  \\\n",
       "0              1          Drake  50,162,292,808  19,246,513,666    262   \n",
       "1              2      Bad Bunny  44,369,032,140   5,391,990,975    163   \n",
       "2              3     Ed Sheeran  38,153,682,361   2,791,278,201    240   \n",
       "3              4     The Weeknd  34,767,779,741   4,288,903,657    186   \n",
       "4              5   Taylor Swift  32,596,728,109     424,053,296    323   \n",
       "...          ...            ...             ...             ...    ...   \n",
       "1004        1005          Gotye   1,424,591,618      10,576,378     46   \n",
       "1005        1006           NIKI   1,422,920,850     231,405,433     55   \n",
       "1006        1007    Duke Dumont   1,422,096,182      24,622,115    121   \n",
       "1007        1008  Laura Pausini   1,421,622,604     293,291,443    434   \n",
       "1008        1009           Beck   1,420,597,420      83,871,063    300   \n",
       "\n",
       "     One Billion 100 Million Last Updated  \n",
       "0              6         130     19.09.22  \n",
       "1              5         118     20.09.22  \n",
       "2             10          62     19.09.22  \n",
       "3              8          72     19.09.22  \n",
       "4              1          96     20.09.22  \n",
       "...          ...         ...          ...  \n",
       "1004           1           1     31.07.22  \n",
       "1005           0           4     14.09.22  \n",
       "1006           0           2     31.07.22  \n",
       "1007           0           0     13.09.22  \n",
       "1008           0           1     17.08.22  \n",
       "\n",
       "[1009 rows x 8 columns]"
      ]
     },
     "execution_count": 4,
     "metadata": {},
     "output_type": "execute_result"
    }
   ],
   "source": [
    "spotify_df"
   ]
  },
  {
   "cell_type": "code",
   "execution_count": 5,
   "id": "f720347a",
   "metadata": {},
   "outputs": [
    {
     "data": {
      "text/plain": [
       "0       19,246,513,666\n",
       "1        5,391,990,975\n",
       "2        2,791,278,201\n",
       "3        4,288,903,657\n",
       "4          424,053,296\n",
       "             ...      \n",
       "1004        10,576,378\n",
       "1005       231,405,433\n",
       "1006        24,622,115\n",
       "1007       293,291,443\n",
       "1008        83,871,063\n",
       "Name: Feats, Length: 1009, dtype: object"
      ]
     },
     "execution_count": 5,
     "metadata": {},
     "output_type": "execute_result"
    }
   ],
   "source": [
    "spotify_df['Feats']"
   ]
  },
  {
   "cell_type": "code",
   "execution_count": 60,
   "id": "5bd578a5",
   "metadata": {},
   "outputs": [
    {
     "data": {
      "text/html": [
       "<div>\n",
       "<style scoped>\n",
       "    .dataframe tbody tr th:only-of-type {\n",
       "        vertical-align: middle;\n",
       "    }\n",
       "\n",
       "    .dataframe tbody tr th {\n",
       "        vertical-align: top;\n",
       "    }\n",
       "\n",
       "    .dataframe thead th {\n",
       "        text-align: right;\n",
       "    }\n",
       "</style>\n",
       "<table border=\"1\" class=\"dataframe\">\n",
       "  <thead>\n",
       "    <tr style=\"text-align: right;\">\n",
       "      <th></th>\n",
       "      <th>Artist Number</th>\n",
       "    </tr>\n",
       "    <tr>\n",
       "      <th>Tracks</th>\n",
       "      <th></th>\n",
       "    </tr>\n",
       "  </thead>\n",
       "  <tbody>\n",
       "    <tr>\n",
       "      <th>1,010</th>\n",
       "      <td>578.000000</td>\n",
       "    </tr>\n",
       "    <tr>\n",
       "      <th>1,024</th>\n",
       "      <td>891.000000</td>\n",
       "    </tr>\n",
       "    <tr>\n",
       "      <th>1,073</th>\n",
       "      <td>147.000000</td>\n",
       "    </tr>\n",
       "    <tr>\n",
       "      <th>1,129</th>\n",
       "      <td>755.000000</td>\n",
       "    </tr>\n",
       "    <tr>\n",
       "      <th>1,308</th>\n",
       "      <td>384.000000</td>\n",
       "    </tr>\n",
       "    <tr>\n",
       "      <th>...</th>\n",
       "      <td>...</td>\n",
       "    </tr>\n",
       "    <tr>\n",
       "      <th>978</th>\n",
       "      <td>638.000000</td>\n",
       "    </tr>\n",
       "    <tr>\n",
       "      <th>98</th>\n",
       "      <td>580.125000</td>\n",
       "    </tr>\n",
       "    <tr>\n",
       "      <th>99</th>\n",
       "      <td>353.333333</td>\n",
       "    </tr>\n",
       "    <tr>\n",
       "      <th>992</th>\n",
       "      <td>852.000000</td>\n",
       "    </tr>\n",
       "    <tr>\n",
       "      <th>Tracks</th>\n",
       "      <td>505.000000</td>\n",
       "    </tr>\n",
       "  </tbody>\n",
       "</table>\n",
       "<p>420 rows × 1 columns</p>\n",
       "</div>"
      ],
      "text/plain": [
       "        Artist Number\n",
       "Tracks               \n",
       "1,010      578.000000\n",
       "1,024      891.000000\n",
       "1,073      147.000000\n",
       "1,129      755.000000\n",
       "1,308      384.000000\n",
       "...               ...\n",
       "978        638.000000\n",
       "98         580.125000\n",
       "99         353.333333\n",
       "992        852.000000\n",
       "Tracks     505.000000\n",
       "\n",
       "[420 rows x 1 columns]"
      ]
     },
     "execution_count": 60,
     "metadata": {},
     "output_type": "execute_result"
    }
   ],
   "source": [
    "spotify_df.groupby(['Tracks']).mean()"
   ]
  },
  {
   "cell_type": "code",
   "execution_count": 68,
   "id": "187d9b78",
   "metadata": {
    "scrolled": false
   },
   "outputs": [
    {
     "data": {
      "text/plain": [
       "Artist Name  Tracks\n",
       "$NOT         58        1,456,594,009\n",
       "$uicideboy$  313       7,392,060,042\n",
       "(G)I-DLE     68        1,549,107,296\n",
       "*NSYNC       89        1,656,401,553\n",
       "2 Chainz     409       3,429,709,034\n",
       "                           ...      \n",
       "fun.         26        1,792,718,438\n",
       "girl in red  29        2,264,464,619\n",
       "gnash        84        2,083,638,974\n",
       "iann dior    55        2,102,922,842\n",
       "will.i.am    103       1,641,904,383\n",
       "Name: Lead Streams, Length: 1001, dtype: object"
      ]
     },
     "execution_count": 68,
     "metadata": {},
     "output_type": "execute_result"
    }
   ],
   "source": [
    "spotify_df.groupby(['Artist Name', 'Tracks'])['Lead Streams'].sum()"
   ]
  },
  {
   "cell_type": "code",
   "execution_count": 66,
   "id": "b66a37ae",
   "metadata": {},
   "outputs": [
    {
     "data": {
      "text/plain": [
       "Artist Name\n",
       "$NOT            58\n",
       "$uicideboy$    313\n",
       "(G)I-DLE        68\n",
       "*NSYNC          89\n",
       "2 Chainz       409\n",
       "              ... \n",
       "fun.            26\n",
       "girl in red     29\n",
       "gnash           84\n",
       "iann dior       55\n",
       "will.i.am      103\n",
       "Name: Tracks, Length: 1001, dtype: object"
      ]
     },
     "execution_count": 66,
     "metadata": {},
     "output_type": "execute_result"
    }
   ],
   "source": [
    "spotify_df.groupby(['Artist Name'])['Tracks'].sum()"
   ]
  },
  {
   "cell_type": "code",
   "execution_count": 65,
   "id": "28977d73",
   "metadata": {},
   "outputs": [
    {
     "data": {
      "text/plain": [
       "Artist Name\n",
       "$NOT            110324095\n",
       "$uicideboy$     255581637\n",
       "(G)I-DLE          4846360\n",
       "*NSYNC           25912106\n",
       "2 Chainz       5081836495\n",
       "                  ...    \n",
       "fun.               203986\n",
       "girl in red       6043639\n",
       "gnash           303083754\n",
       "iann dior      2291368890\n",
       "will.i.am      2159351268\n",
       "Name: Feats, Length: 1001, dtype: object"
      ]
     },
     "execution_count": 65,
     "metadata": {},
     "output_type": "execute_result"
    }
   ],
   "source": [
    "spotify_df.groupby(['Artist Name'])['Feats'].sum()"
   ]
  },
  {
   "cell_type": "code",
   "execution_count": 6,
   "id": "25563137",
   "metadata": {
    "scrolled": true
   },
   "outputs": [
    {
     "data": {
      "text/plain": [
       "0       19,246,513,666\n",
       "1        5,391,990,975\n",
       "2        2,791,278,201\n",
       "3        4,288,903,657\n",
       "4          424,053,296\n",
       "             ...      \n",
       "1004        10,576,378\n",
       "1005       231,405,433\n",
       "1006        24,622,115\n",
       "1007       293,291,443\n",
       "1008        83,871,063\n",
       "Name: Feats, Length: 1009, dtype: object"
      ]
     },
     "execution_count": 6,
     "metadata": {},
     "output_type": "execute_result"
    }
   ],
   "source": [
    "spotify_df['Feats']"
   ]
  },
  {
   "cell_type": "code",
   "execution_count": 7,
   "id": "1013ac82",
   "metadata": {},
   "outputs": [],
   "source": [
    "spotify_df['Feats'] = spotify_df['Feats'].replace(\",\", '', regex = True)"
   ]
  },
  {
   "cell_type": "code",
   "execution_count": 8,
   "id": "1595caac",
   "metadata": {},
   "outputs": [],
   "source": [
    "spotify_df['Feats'] = spotify_df['Feats'].replace(\" \", '', regex = True)"
   ]
  },
  {
   "cell_type": "code",
   "execution_count": 9,
   "id": "594c6deb",
   "metadata": {},
   "outputs": [],
   "source": [
    "spotify_df['Feats'] = spotify_df['Feats'].replace(\"'\", '', regex = True)"
   ]
  },
  {
   "cell_type": "code",
   "execution_count": 73,
   "id": "333a5a6c",
   "metadata": {},
   "outputs": [
    {
     "data": {
      "text/plain": [
       "Feats           1924651366653919909752791278201428890365742405...\n",
       "Lead Streams    50,162,292,80844,369,032,14038,153,682,36134,7...\n",
       "dtype: object"
      ]
     },
     "execution_count": 73,
     "metadata": {},
     "output_type": "execute_result"
    }
   ],
   "source": [
    "spotify_df[['Feats', 'Lead Streams']].sum()"
   ]
  },
  {
   "cell_type": "code",
   "execution_count": 11,
   "id": "21cc1fec",
   "metadata": {},
   "outputs": [
    {
     "name": "stdout",
     "output_type": "stream",
     "text": [
      "<class 'pandas.core.series.Series'>\n",
      "RangeIndex: 1009 entries, 0 to 1008\n",
      "Series name: Feats\n",
      "Non-Null Count  Dtype \n",
      "--------------  ----- \n",
      "1009 non-null   object\n",
      "dtypes: object(1)\n",
      "memory usage: 8.0+ KB\n"
     ]
    }
   ],
   "source": [
    "spotify_df['Feats'].info()"
   ]
  },
  {
   "cell_type": "code",
   "execution_count": 12,
   "id": "f1725c63",
   "metadata": {},
   "outputs": [
    {
     "data": {
      "text/plain": [
       "0       19246513666\n",
       "1        5391990975\n",
       "2        2791278201\n",
       "3        4288903657\n",
       "4         424053296\n",
       "           ...     \n",
       "1004       10576378\n",
       "1005      231405433\n",
       "1006       24622115\n",
       "1007      293291443\n",
       "1008       83871063\n",
       "Name: Feats, Length: 1009, dtype: object"
      ]
     },
     "execution_count": 12,
     "metadata": {},
     "output_type": "execute_result"
    }
   ],
   "source": [
    "spotify_df['Feats']"
   ]
  },
  {
   "cell_type": "code",
   "execution_count": 13,
   "id": "38b5339c",
   "metadata": {},
   "outputs": [],
   "source": [
    "spotify_df.rename(columns = {'Unnamed: 0' :'Artist Number'}\n",
    "                          , inplace = True) "
   ]
  },
  {
   "cell_type": "code",
   "execution_count": 14,
   "id": "f099873e",
   "metadata": {},
   "outputs": [
    {
     "data": {
      "text/html": [
       "<div>\n",
       "<style scoped>\n",
       "    .dataframe tbody tr th:only-of-type {\n",
       "        vertical-align: middle;\n",
       "    }\n",
       "\n",
       "    .dataframe tbody tr th {\n",
       "        vertical-align: top;\n",
       "    }\n",
       "\n",
       "    .dataframe thead th {\n",
       "        text-align: right;\n",
       "    }\n",
       "</style>\n",
       "<table border=\"1\" class=\"dataframe\">\n",
       "  <thead>\n",
       "    <tr style=\"text-align: right;\">\n",
       "      <th></th>\n",
       "      <th>Artist Number</th>\n",
       "      <th>Artist Name</th>\n",
       "      <th>Lead Streams</th>\n",
       "      <th>Feats</th>\n",
       "      <th>Tracks</th>\n",
       "      <th>One Billion</th>\n",
       "      <th>100 Million</th>\n",
       "      <th>Last Updated</th>\n",
       "    </tr>\n",
       "  </thead>\n",
       "  <tbody>\n",
       "    <tr>\n",
       "      <th>0</th>\n",
       "      <td>1</td>\n",
       "      <td>Drake</td>\n",
       "      <td>50,162,292,808</td>\n",
       "      <td>19246513666</td>\n",
       "      <td>262</td>\n",
       "      <td>6</td>\n",
       "      <td>130</td>\n",
       "      <td>19.09.22</td>\n",
       "    </tr>\n",
       "    <tr>\n",
       "      <th>1</th>\n",
       "      <td>2</td>\n",
       "      <td>Bad Bunny</td>\n",
       "      <td>44,369,032,140</td>\n",
       "      <td>5391990975</td>\n",
       "      <td>163</td>\n",
       "      <td>5</td>\n",
       "      <td>118</td>\n",
       "      <td>20.09.22</td>\n",
       "    </tr>\n",
       "    <tr>\n",
       "      <th>2</th>\n",
       "      <td>3</td>\n",
       "      <td>Ed Sheeran</td>\n",
       "      <td>38,153,682,361</td>\n",
       "      <td>2791278201</td>\n",
       "      <td>240</td>\n",
       "      <td>10</td>\n",
       "      <td>62</td>\n",
       "      <td>19.09.22</td>\n",
       "    </tr>\n",
       "    <tr>\n",
       "      <th>3</th>\n",
       "      <td>4</td>\n",
       "      <td>The Weeknd</td>\n",
       "      <td>34,767,779,741</td>\n",
       "      <td>4288903657</td>\n",
       "      <td>186</td>\n",
       "      <td>8</td>\n",
       "      <td>72</td>\n",
       "      <td>19.09.22</td>\n",
       "    </tr>\n",
       "    <tr>\n",
       "      <th>4</th>\n",
       "      <td>5</td>\n",
       "      <td>Taylor Swift</td>\n",
       "      <td>32,596,728,109</td>\n",
       "      <td>424053296</td>\n",
       "      <td>323</td>\n",
       "      <td>1</td>\n",
       "      <td>96</td>\n",
       "      <td>20.09.22</td>\n",
       "    </tr>\n",
       "    <tr>\n",
       "      <th>...</th>\n",
       "      <td>...</td>\n",
       "      <td>...</td>\n",
       "      <td>...</td>\n",
       "      <td>...</td>\n",
       "      <td>...</td>\n",
       "      <td>...</td>\n",
       "      <td>...</td>\n",
       "      <td>...</td>\n",
       "    </tr>\n",
       "    <tr>\n",
       "      <th>1004</th>\n",
       "      <td>1005</td>\n",
       "      <td>Gotye</td>\n",
       "      <td>1,424,591,618</td>\n",
       "      <td>10576378</td>\n",
       "      <td>46</td>\n",
       "      <td>1</td>\n",
       "      <td>1</td>\n",
       "      <td>31.07.22</td>\n",
       "    </tr>\n",
       "    <tr>\n",
       "      <th>1005</th>\n",
       "      <td>1006</td>\n",
       "      <td>NIKI</td>\n",
       "      <td>1,422,920,850</td>\n",
       "      <td>231405433</td>\n",
       "      <td>55</td>\n",
       "      <td>0</td>\n",
       "      <td>4</td>\n",
       "      <td>14.09.22</td>\n",
       "    </tr>\n",
       "    <tr>\n",
       "      <th>1006</th>\n",
       "      <td>1007</td>\n",
       "      <td>Duke Dumont</td>\n",
       "      <td>1,422,096,182</td>\n",
       "      <td>24622115</td>\n",
       "      <td>121</td>\n",
       "      <td>0</td>\n",
       "      <td>2</td>\n",
       "      <td>31.07.22</td>\n",
       "    </tr>\n",
       "    <tr>\n",
       "      <th>1007</th>\n",
       "      <td>1008</td>\n",
       "      <td>Laura Pausini</td>\n",
       "      <td>1,421,622,604</td>\n",
       "      <td>293291443</td>\n",
       "      <td>434</td>\n",
       "      <td>0</td>\n",
       "      <td>0</td>\n",
       "      <td>13.09.22</td>\n",
       "    </tr>\n",
       "    <tr>\n",
       "      <th>1008</th>\n",
       "      <td>1009</td>\n",
       "      <td>Beck</td>\n",
       "      <td>1,420,597,420</td>\n",
       "      <td>83871063</td>\n",
       "      <td>300</td>\n",
       "      <td>0</td>\n",
       "      <td>1</td>\n",
       "      <td>17.08.22</td>\n",
       "    </tr>\n",
       "  </tbody>\n",
       "</table>\n",
       "<p>1009 rows × 8 columns</p>\n",
       "</div>"
      ],
      "text/plain": [
       "      Artist Number    Artist Name    Lead Streams        Feats Tracks  \\\n",
       "0                 1          Drake  50,162,292,808  19246513666    262   \n",
       "1                 2      Bad Bunny  44,369,032,140   5391990975    163   \n",
       "2                 3     Ed Sheeran  38,153,682,361   2791278201    240   \n",
       "3                 4     The Weeknd  34,767,779,741   4288903657    186   \n",
       "4                 5   Taylor Swift  32,596,728,109    424053296    323   \n",
       "...             ...            ...             ...          ...    ...   \n",
       "1004           1005          Gotye   1,424,591,618     10576378     46   \n",
       "1005           1006           NIKI   1,422,920,850    231405433     55   \n",
       "1006           1007    Duke Dumont   1,422,096,182     24622115    121   \n",
       "1007           1008  Laura Pausini   1,421,622,604    293291443    434   \n",
       "1008           1009           Beck   1,420,597,420     83871063    300   \n",
       "\n",
       "     One Billion 100 Million Last Updated  \n",
       "0              6         130     19.09.22  \n",
       "1              5         118     20.09.22  \n",
       "2             10          62     19.09.22  \n",
       "3              8          72     19.09.22  \n",
       "4              1          96     20.09.22  \n",
       "...          ...         ...          ...  \n",
       "1004           1           1     31.07.22  \n",
       "1005           0           4     14.09.22  \n",
       "1006           0           2     31.07.22  \n",
       "1007           0           0     13.09.22  \n",
       "1008           0           1     17.08.22  \n",
       "\n",
       "[1009 rows x 8 columns]"
      ]
     },
     "execution_count": 14,
     "metadata": {},
     "output_type": "execute_result"
    }
   ],
   "source": [
    "spotify_df"
   ]
  },
  {
   "cell_type": "markdown",
   "id": "f810cd57",
   "metadata": {},
   "source": [
    "# Ideas for the future "
   ]
  },
  {
   "cell_type": "markdown",
   "id": "2045c062",
   "metadata": {},
   "source": [
    "In order to make sure I am keeping up to date with the latest Spotify music trends, artist's statistics, and other interesting things within the music industry, I plan to use a Pandas method to convert a table containing artist streaming statistics into a format that Pandas can read. I can then clean the data on here, convert it to a csv file, and create a table using SQL again. I will demonstrate some of the logic and processes below."
   ]
  },
  {
   "cell_type": "code",
   "execution_count": 15,
   "id": "e81c5d3c",
   "metadata": {},
   "outputs": [
    {
     "name": "stdout",
     "output_type": "stream",
     "text": [
      "Requirement already satisfied: lxml in c:\\users\\jackmadden\\anaconda3\\lib\\site-packages (4.8.0)Note: you may need to restart the kernel to use updated packages.\n",
      "\n",
      "Requirement already satisfied: html5lib in c:\\users\\jackmadden\\anaconda3\\lib\\site-packages (1.1)\n",
      "Requirement already satisfied: webencodings in c:\\users\\jackmadden\\anaconda3\\lib\\site-packages (from html5lib) (0.5.1)\n",
      "Requirement already satisfied: six>=1.9 in c:\\users\\jackmadden\\anaconda3\\lib\\site-packages (from html5lib) (1.16.0)\n"
     ]
    }
   ],
   "source": [
    "pip install lxml html5lib"
   ]
  },
  {
   "cell_type": "code",
   "execution_count": 16,
   "id": "da0dbb7d",
   "metadata": {},
   "outputs": [],
   "source": [
    "# lxml html5lib are modules that allow a table to be web scraped using Pandas"
   ]
  },
  {
   "cell_type": "code",
   "execution_count": 17,
   "id": "a7acf243",
   "metadata": {},
   "outputs": [],
   "source": [
    "Spotify_stats = pd.read_html(\"https://chartmasters.org/most-streamed-artists-ever-on-spotify/#:~:text=Expectedly%2C%20the%20most%20streamed%20artist%20of%20all-time%20is,over%20the%20top%20spot%20ahead%20of%20Ariana%20Grande.\")"
   ]
  },
  {
   "cell_type": "code",
   "execution_count": 18,
   "id": "f82c3be5",
   "metadata": {},
   "outputs": [
    {
     "name": "stdout",
     "output_type": "stream",
     "text": [
      "[      #        Artist  Lead Streams  Tracks  1b  100m  10m   1m  Feat Streams  \\\n",
      "0     1         Drake   50942819980     262   7   133  256  259   19858928144   \n",
      "1     2     Bad Bunny   46206549533     164   8   119  157  162    5162523739   \n",
      "2     3    Ed Sheeran   38748062755     243  10    63  180  221    2780754120   \n",
      "3     4    The Weeknd   35642810528     186   8    74  147  170    4371711017   \n",
      "4     5  Taylor Swift   33917083840     343   1   102  260  334     431943666   \n",
      "..  ...           ...           ...     ...  ..   ...  ...  ...           ...   \n",
      "95   96         AC/DC    8428356902     309   3    10   87  245             0   \n",
      "96   97          P!nk    8363469927     227   0    23   83  166     673841848   \n",
      "97   98          Tyga    8350553840     306   1    21  110  262    4013768170   \n",
      "98   99    John Mayer    8334072890     208   0    20  117  184     521484782   \n",
      "99  100  Trippie Redd    8281115390     198   0    24  127  182    3265866990   \n",
      "\n",
      "      Update  \n",
      "0   21.10.22  \n",
      "1   21.10.22  \n",
      "2   21.10.22  \n",
      "3   20.10.22  \n",
      "4   22.10.22  \n",
      "..       ...  \n",
      "95  19.10.22  \n",
      "96  21.10.22  \n",
      "97  12.10.22  \n",
      "98  17.10.22  \n",
      "99  09.10.22  \n",
      "\n",
      "[100 rows x 10 columns]]\n"
     ]
    }
   ],
   "source": [
    "print(Spotify_stats)"
   ]
  },
  {
   "cell_type": "code",
   "execution_count": 19,
   "id": "739b657a",
   "metadata": {},
   "outputs": [
    {
     "name": "stdout",
     "output_type": "stream",
     "text": [
      "      #\n",
      "0     1\n",
      "1     2\n",
      "2     3\n",
      "3     4\n",
      "4     5\n",
      "..  ...\n",
      "95   96\n",
      "96   97\n",
      "97   98\n",
      "98   99\n",
      "99  100\n",
      "\n",
      "[100 rows x 1 columns]\n"
     ]
    }
   ],
   "source": [
    "for stats in Spotify_stats:\n",
    "    print(stats[[\"#\"]]) # creates a for loop iterating through table looking for corresponding value "
   ]
  },
  {
   "cell_type": "code",
   "execution_count": 20,
   "id": "52323aee",
   "metadata": {},
   "outputs": [
    {
     "name": "stdout",
     "output_type": "stream",
     "text": [
      "0            Drake\n",
      "1        Bad Bunny\n",
      "2       Ed Sheeran\n",
      "3       The Weeknd\n",
      "4     Taylor Swift\n",
      "          ...     \n",
      "95           AC/DC\n",
      "96            P!nk\n",
      "97            Tyga\n",
      "98      John Mayer\n",
      "99    Trippie Redd\n",
      "Name: Artist, Length: 100, dtype: object\n"
     ]
    }
   ],
   "source": [
    "print(Spotify_stats[0]['Artist']) # need index of 0 and column name. If index value > 0, index out of range error"
   ]
  },
  {
   "cell_type": "code",
   "execution_count": 21,
   "id": "cbfe5a44",
   "metadata": {},
   "outputs": [],
   "source": [
    "Spotify_stats2 = Spotify_stats.copy() \n",
    "\n",
    "# creates a copy of table\n",
    "# Will use to show how table can be changed into excel or csv file"
   ]
  },
  {
   "cell_type": "code",
   "execution_count": 22,
   "id": "fefb7d1a",
   "metadata": {},
   "outputs": [
    {
     "data": {
      "text/plain": [
       "[      #        Artist  Lead Streams  Tracks  1b  100m  10m   1m  Feat Streams  \\\n",
       " 0     1         Drake   50942819980     262   7   133  256  259   19858928144   \n",
       " 1     2     Bad Bunny   46206549533     164   8   119  157  162    5162523739   \n",
       " 2     3    Ed Sheeran   38748062755     243  10    63  180  221    2780754120   \n",
       " 3     4    The Weeknd   35642810528     186   8    74  147  170    4371711017   \n",
       " 4     5  Taylor Swift   33917083840     343   1   102  260  334     431943666   \n",
       " ..  ...           ...           ...     ...  ..   ...  ...  ...           ...   \n",
       " 95   96         AC/DC    8428356902     309   3    10   87  245             0   \n",
       " 96   97          P!nk    8363469927     227   0    23   83  166     673841848   \n",
       " 97   98          Tyga    8350553840     306   1    21  110  262    4013768170   \n",
       " 98   99    John Mayer    8334072890     208   0    20  117  184     521484782   \n",
       " 99  100  Trippie Redd    8281115390     198   0    24  127  182    3265866990   \n",
       " \n",
       "       Update  \n",
       " 0   21.10.22  \n",
       " 1   21.10.22  \n",
       " 2   21.10.22  \n",
       " 3   20.10.22  \n",
       " 4   22.10.22  \n",
       " ..       ...  \n",
       " 95  19.10.22  \n",
       " 96  21.10.22  \n",
       " 97  12.10.22  \n",
       " 98  17.10.22  \n",
       " 99  09.10.22  \n",
       " \n",
       " [100 rows x 10 columns]]"
      ]
     },
     "execution_count": 22,
     "metadata": {},
     "output_type": "execute_result"
    }
   ],
   "source": [
    "Spotify_stats2"
   ]
  },
  {
   "cell_type": "code",
   "execution_count": 23,
   "id": "bec87d02",
   "metadata": {},
   "outputs": [
    {
     "data": {
      "text/plain": [
       "(1, 100, 10)"
      ]
     },
     "execution_count": 23,
     "metadata": {},
     "output_type": "execute_result"
    }
   ],
   "source": [
    "np.shape(Spotify_stats2) # 1 table, 100 rows and 10 columns- 3d object. Won't work with to_csv unless converted to 2d"
   ]
  },
  {
   "cell_type": "code",
   "execution_count": 24,
   "id": "3987a111",
   "metadata": {},
   "outputs": [],
   "source": [
    "Spotify_stats2_new = np.reshape(Spotify_stats2, 10 * 100) # converts rehshaped table from 1, 100, 10 to 100 rows by 10 columns"
   ]
  },
  {
   "cell_type": "code",
   "execution_count": 25,
   "id": "c927e3c8",
   "metadata": {},
   "outputs": [
    {
     "data": {
      "text/plain": [
       "(1000,)"
      ]
     },
     "execution_count": 25,
     "metadata": {},
     "output_type": "execute_result"
    }
   ],
   "source": [
    "Spotify_stats2_new.shape"
   ]
  },
  {
   "cell_type": "code",
   "execution_count": 26,
   "id": "9709dee9",
   "metadata": {},
   "outputs": [],
   "source": [
    "Spotify_stats2_new = Spotify_stats2_new.reshape(100, 10)"
   ]
  },
  {
   "cell_type": "code",
   "execution_count": 27,
   "id": "85bf4df5",
   "metadata": {},
   "outputs": [],
   "source": [
    "Spotify_stats2_df = pd.DataFrame(Spotify_stats2_new)"
   ]
  },
  {
   "cell_type": "code",
   "execution_count": 28,
   "id": "6dd92668",
   "metadata": {},
   "outputs": [],
   "source": [
    "Spotify_stats2_df.rename(columns = {0 :'Artist Number', 1 :'Artist',\n",
    "                              2 :'Lead Streams', 3 : 'Tracks', 4 : '1b', 5 : '100m', 6 : '10m'\n",
    "                                    , 7 : '1m', 8 : 'Feat Streams', 9 : 'Update'}\n",
    "                          , inplace = True) \n",
    "# inplace saves changes to dataframe without Spotify_stats2_df = Spotify_stats2_df.rename() required"
   ]
  },
  {
   "cell_type": "code",
   "execution_count": 29,
   "id": "8edee133",
   "metadata": {
    "scrolled": true
   },
   "outputs": [
    {
     "data": {
      "text/plain": [
       "Index(['Artist Number', 'Artist', 'Lead Streams', 'Tracks', '1b', '100m',\n",
       "       '10m', '1m', 'Feat Streams', 'Update'],\n",
       "      dtype='object')"
      ]
     },
     "execution_count": 29,
     "metadata": {},
     "output_type": "execute_result"
    }
   ],
   "source": [
    "Spotify_stats2_df.columns"
   ]
  },
  {
   "cell_type": "code",
   "execution_count": 30,
   "id": "c567a4c4",
   "metadata": {},
   "outputs": [],
   "source": [
    "Spotify_stats2_df.to_csv(\"Spotify_artist_latest_data.csv\") # converts table to csv. Could also use to_excel for excel file"
   ]
  },
  {
   "cell_type": "code",
   "execution_count": 31,
   "id": "15797de2",
   "metadata": {},
   "outputs": [],
   "source": [
    "Spotify_stats3 = pd.read_csv(\"C:/Users/JackMadden/OneDrive - JCW Resourcing/Documents/Spotify_artist_latest_data.csv\") \n",
    "# contained column like Artist Number without column name on left of Artist Number. Deleted on file"
   ]
  },
  {
   "cell_type": "code",
   "execution_count": 32,
   "id": "401322ca",
   "metadata": {},
   "outputs": [
    {
     "data": {
      "text/html": [
       "<div>\n",
       "<style scoped>\n",
       "    .dataframe tbody tr th:only-of-type {\n",
       "        vertical-align: middle;\n",
       "    }\n",
       "\n",
       "    .dataframe tbody tr th {\n",
       "        vertical-align: top;\n",
       "    }\n",
       "\n",
       "    .dataframe thead th {\n",
       "        text-align: right;\n",
       "    }\n",
       "</style>\n",
       "<table border=\"1\" class=\"dataframe\">\n",
       "  <thead>\n",
       "    <tr style=\"text-align: right;\">\n",
       "      <th></th>\n",
       "      <th>Artist Number</th>\n",
       "      <th>Artist</th>\n",
       "      <th>Lead Streams</th>\n",
       "      <th>Tracks</th>\n",
       "      <th>1b</th>\n",
       "      <th>100m</th>\n",
       "      <th>10m</th>\n",
       "      <th>1m</th>\n",
       "      <th>Feat Streams</th>\n",
       "      <th>Update</th>\n",
       "    </tr>\n",
       "  </thead>\n",
       "  <tbody>\n",
       "    <tr>\n",
       "      <th>0</th>\n",
       "      <td>1</td>\n",
       "      <td>Drake</td>\n",
       "      <td>50916465589</td>\n",
       "      <td>262</td>\n",
       "      <td>7</td>\n",
       "      <td>133</td>\n",
       "      <td>256</td>\n",
       "      <td>259</td>\n",
       "      <td>19489949893</td>\n",
       "      <td>19.10.22</td>\n",
       "    </tr>\n",
       "    <tr>\n",
       "      <th>1</th>\n",
       "      <td>2</td>\n",
       "      <td>Bad Bunny</td>\n",
       "      <td>46041074561</td>\n",
       "      <td>163</td>\n",
       "      <td>8</td>\n",
       "      <td>119</td>\n",
       "      <td>157</td>\n",
       "      <td>162</td>\n",
       "      <td>5152268377</td>\n",
       "      <td>19.10.22</td>\n",
       "    </tr>\n",
       "    <tr>\n",
       "      <th>2</th>\n",
       "      <td>3</td>\n",
       "      <td>Ed Sheeran</td>\n",
       "      <td>38693160817</td>\n",
       "      <td>244</td>\n",
       "      <td>10</td>\n",
       "      <td>63</td>\n",
       "      <td>180</td>\n",
       "      <td>221</td>\n",
       "      <td>2846774884</td>\n",
       "      <td>18.10.22</td>\n",
       "    </tr>\n",
       "    <tr>\n",
       "      <th>3</th>\n",
       "      <td>4</td>\n",
       "      <td>The Weeknd</td>\n",
       "      <td>35613566062</td>\n",
       "      <td>186</td>\n",
       "      <td>8</td>\n",
       "      <td>74</td>\n",
       "      <td>147</td>\n",
       "      <td>170</td>\n",
       "      <td>4368990279</td>\n",
       "      <td>19.10.22</td>\n",
       "    </tr>\n",
       "    <tr>\n",
       "      <th>4</th>\n",
       "      <td>5</td>\n",
       "      <td>Taylor Swift</td>\n",
       "      <td>33644857311</td>\n",
       "      <td>323</td>\n",
       "      <td>1</td>\n",
       "      <td>101</td>\n",
       "      <td>250</td>\n",
       "      <td>314</td>\n",
       "      <td>431215778</td>\n",
       "      <td>19.10.22</td>\n",
       "    </tr>\n",
       "  </tbody>\n",
       "</table>\n",
       "</div>"
      ],
      "text/plain": [
       "   Artist Number        Artist  Lead Streams  Tracks  1b  100m  10m   1m  \\\n",
       "0              1         Drake   50916465589     262   7   133  256  259   \n",
       "1              2     Bad Bunny   46041074561     163   8   119  157  162   \n",
       "2              3    Ed Sheeran   38693160817     244  10    63  180  221   \n",
       "3              4    The Weeknd   35613566062     186   8    74  147  170   \n",
       "4              5  Taylor Swift   33644857311     323   1   101  250  314   \n",
       "\n",
       "   Feat Streams    Update  \n",
       "0   19489949893  19.10.22  \n",
       "1    5152268377  19.10.22  \n",
       "2    2846774884  18.10.22  \n",
       "3    4368990279  19.10.22  \n",
       "4     431215778  19.10.22  "
      ]
     },
     "execution_count": 32,
     "metadata": {},
     "output_type": "execute_result"
    }
   ],
   "source": [
    "Spotify_stats3.head()"
   ]
  }
 ],
 "metadata": {
  "kernelspec": {
   "display_name": "Python 3 (ipykernel)",
   "language": "python",
   "name": "python3"
  },
  "language_info": {
   "codemirror_mode": {
    "name": "ipython",
    "version": 3
   },
   "file_extension": ".py",
   "mimetype": "text/x-python",
   "name": "python",
   "nbconvert_exporter": "python",
   "pygments_lexer": "ipython3",
   "version": "3.9.12"
  }
 },
 "nbformat": 4,
 "nbformat_minor": 5
}
